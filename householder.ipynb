{
 "cells": [
  {
   "cell_type": "code",
   "execution_count": null,
   "metadata": {},
   "outputs": [],
   "source": [
    "def knn(x, k):\n",
    "    inner = -2 * torch.matmul(x.transpose(2, 1), x)\n",
    "    xx = torch.sum(x ** 2, dim=1, keepdim=True)\n",
    "    pairwise_distance = -xx - inner - xx.transpose(2, 1)\n",
    "\n",
    "    idx = pairwise_distance.topk(k=k, dim=-1)[1]  # (batch_size, num_points, k)\n",
    "    return idx\n",
    "\n",
    "\n",
    "def householder(x, y):\n",
    "    if x.shape != y.shape:\n",
    "        print('The Feature of X and Y Must Have The Same Size!')\n",
    "    rho = torch.norm(x, dim=-1)/torch.norm(y, dim=-1)\n",
    "    y = rho.reshape(x.shape[0], 1) * y\n",
    "    norm = torch.norm(x - y, dim=-1).reshape(x.shape[0], 1)\n",
    "    w = (x - y) / norm\n",
    "    ww = w.reshape(x.shape[0], x.shape[-1], 1)\n",
    "    \n",
    "    wt=w.reshape(x.shape[0],1,x.shape[-1])\n",
    "    device = torch.device('cuda')\n",
    "    I=torch.eye(x.shape[-1]).expand(x.shape[0],x.shape[-1],x.shape[-1])\n",
    "    I=I.to(device)\n",
    "    H=I-(2*torch.matmul(ww,wt))\n",
    "    \n",
    "    rho1 = rho.reshape(x.shape[0], 1, 1)\n",
    "    return H,rho1\n",
    "    #return (ww * rho1).reshape(x.shape[0], x.shape[-1])\n",
    "\n",
    "\n",
    "def get_graph_feature(x, k=20, idx=None):\n",
    "    batch_size = x.size(0)\n",
    "    num_points = x.size(2)\n",
    "    x = x.view(batch_size, -1, num_points)\n",
    "    if idx is None:\n",
    "        idx = knn(x, k=k)  # (batch_size, num_points, k)\n",
    "    device = torch.device('cuda')\n",
    "    idx_base = torch.arange(0, batch_size, device=device).view(-1, 1, 1) * num_points\n",
    "    idx = idx + idx_base\n",
    "    idx = idx.reshape(batch_size*num_points, k)[:, 1:k]  #delete the 1st column, which is the coord of the center itself\n",
    "    idx = idx.reshape(batch_size*num_points*(k-1))\n",
    "    _, num_dims, _ = x.size()\n",
    "\n",
    "    x = x.transpose(2, 1).contiguous()  # (batch_size, num_points, num_dims)  -> (batch_size*num_points, num_dims)\n",
    "    neighbor = x.view(batch_size * num_points, -1)[idx, :]  # batch_size * num_points * k + range(0, batch_size*num_points)\n",
    "    x = x.view(batch_size, num_points, 1, num_dims).repeat(1, 1, k-1, 1)\n",
    "    x = x.view(batch_size * num_points * (k-1), -1)  # reshape x for computing householder easily\n",
    "\n",
    "    w = householder(x, neighbor)\n",
    "    w = w.view(batch_size, num_points, k - 1, num_dims)\n",
    "    x = x.view(batch_size, num_points, k - 1, num_dims)\n",
    "    feature = torch.cat((x, w), dim=3).permute(0, 3, 1, 2)\n",
    "    return feature"
   ]
  }
 ],
 "metadata": {
  "kernelspec": {
   "display_name": "Python 3",
   "language": "python",
   "name": "python3"
  },
  "language_info": {
   "codemirror_mode": {
    "name": "ipython",
    "version": 3
   },
   "file_extension": ".py",
   "mimetype": "text/x-python",
   "name": "python",
   "nbconvert_exporter": "python",
   "pygments_lexer": "ipython3",
   "version": "3.7.1"
  }
 },
 "nbformat": 4,
 "nbformat_minor": 2
}
